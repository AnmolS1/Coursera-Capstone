{
    "cells": [
        {
            "metadata": {
                "collapsed": true
            },
            "cell_type": "markdown",
            "source": "# Capstone Project | Battle of the Neighborhoods\n## An Analysis on Multiculturalism in Houston\n\n### 1. Introduction\nHouston is an incredibly diverse city. People come from all over the world for a plethora of reasons ranging from the oil and gas industry to just wanting to be with family. Calling Houston a melting pot would be an understatement, one would be hard-pressed to find another city quite so ethnically diverse.\n\nSome of the questions this project attempts to answer include:\n* What is the best location in Houston for any given cuisine?\n* What areas have good potential for a given ethnic restaurant?\n\n### 2. Data Section\n"
        }
    ],
    "metadata": {
        "kernelspec": {
            "name": "python3",
            "display_name": "Python 3.7",
            "language": "python"
        },
        "language_info": {
            "name": "python",
            "version": "3.7.9",
            "mimetype": "text/x-python",
            "codemirror_mode": {
                "name": "ipython",
                "version": 3
            },
            "pygments_lexer": "ipython3",
            "nbconvert_exporter": "python",
            "file_extension": ".py"
        }
    },
    "nbformat": 4,
    "nbformat_minor": 1
}