{
    "cells": [
        {
            "metadata": {
                "collapsed": true
            },
            "cell_type": "markdown",
            "source": "# Capstone Project | Battle of the Neighborhoods\n## An Analysis on Indian Impact in New York\n\n### 1. Introduction\n\nNew York is an incredibly diverse city. People come from all over the world for a plethora of reasons ranging from the fashion industry to the fast-paced life to almost anything you could think of. Calling New York a melting pot would be an understatement, one would be hard-pressed to find another city quite so ethnically diverse.\n\nSome of the questions this project attempts to answer include:\n* What is the best location in New York for Indian cuisine?\n* What areas have good potential for an Indian restaurant?\n\n### 2. Data Section\n\nThere's quite a bit of data required to produce an accurate representation.\n1. A list of boroughs and neighborhoods in New York City, along with latitude and longitude. This will come from the cognitive class AI website.\n\n2. A list of Indian restaurants in each neighborhood of New York City. Data for this will come from the Foursquare API.\n\n3. GeoSpace data, for the purpose of getting the boundaries of the New York Borough. This data will come from the cityofnewyork website."
        },
        {
            "metadata": {},
            "cell_type": "code",
            "source": "",
            "execution_count": null,
            "outputs": []
        }
    ],
    "metadata": {
        "kernelspec": {
            "name": "python3",
            "display_name": "Python 3.7",
            "language": "python"
        },
        "language_info": {
            "name": "python",
            "version": "3.7.9",
            "mimetype": "text/x-python",
            "codemirror_mode": {
                "name": "ipython",
                "version": 3
            },
            "pygments_lexer": "ipython3",
            "nbconvert_exporter": "python",
            "file_extension": ".py"
        }
    },
    "nbformat": 4,
    "nbformat_minor": 1
}